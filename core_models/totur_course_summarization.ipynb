{
  "cells": [
    {
      "cell_type": "markdown",
      "metadata": {},
      "source": [
        "# Course Playlist Summarizer & Chatbot\n",
        "\n",
        "This notebook provides a complete pipeline for processing a **YouTube video playlist** into:\n",
        "- 📝 Cleaned transcripts using `Whisper`\n",
        "- 📄 Automated summaries using `OpenAI` LLMs\n",
        "- 🧠 A searchable **vector database** using `Chroma` and `LangChain`\n",
        "- 💬 An interactive chatbot for asking questions about the video content\n",
        "\n",
        "### 🔧 Key Features:\n",
        "- Download audio from YouTube playlists\n",
        "- Transcribe using OpenAI Whisper\n",
        "- Clean transcripts to remove filler or irrelevant text\n",
        "- Summarize each video into 2–3 key points\n",
        "- Build a Chroma vector store for semantic retrieval\n",
        "- Ask questions via a CLI chatbot based on the video content\n",
        "\n",
        "> This notebook is perfect for anyone building educational AI tools or automating learning from video content.\n"
      ]
    },
    {
      "cell_type": "markdown",
      "metadata": {},
      "source": [
        "## 1. Install Required Libraries\n"
      ]
    },
    {
      "cell_type": "code",
      "execution_count": 1,
      "metadata": {
        "id": "cjSMuhf__vrb"
      },
      "outputs": [],
      "source": [
        "!pip install -q openai langchain langchain-openai langchain-community chromadb yt_dlp whisper\n",
        "!pip install -q ffmpeg-python"
      ]
    },
    {
      "cell_type": "markdown",
      "metadata": {},
      "source": [
        "## 2. Import Libraries and Set API Key\n"
      ]
    },
    {
      "cell_type": "code",
      "execution_count": null,
      "metadata": {
        "id": "2rv6D2cUBD6a"
      },
      "outputs": [],
      "source": [
        "import os\n",
        "import yt_dlp\n",
        "import whisper\n",
        "from langchain_openai import OpenAIEmbeddings, ChatOpenAI\n",
        "from langchain_community.vectorstores import Chroma\n",
        "from langchain.text_splitter import RecursiveCharacterTextSplitter\n",
        "from langchain.chains import RetrievalQA\n",
        "from langchain.docstore.document import Document\n",
        "from dotenv import load_dotenv\n",
        "import os\n",
        "\n",
        "# Load API key from .env file\n",
        "load_dotenv()\n",
        "OPENAI_API_KEY = os.getenv(\"OPENAI_API_KEY\")"
      ]
    },
    {
      "cell_type": "markdown",
      "metadata": {},
      "source": [
        "## 3. Prepare Project Directories\n"
      ]
    },
    {
      "cell_type": "code",
      "execution_count": 3,
      "metadata": {
        "id": "B3E7EGuaBLoB"
      },
      "outputs": [],
      "source": [
        "# Create directories\n",
        "os.makedirs(\"audios\", exist_ok=True)\n",
        "os.makedirs(\"transcripts\", exist_ok=True)\n",
        "os.makedirs(\"outputs\", exist_ok=True)"
      ]
    },
    {
      "cell_type": "markdown",
      "metadata": {},
      "source": [
        "## 4. Clean Transcript Texts\n"
      ]
    },
    {
      "cell_type": "code",
      "execution_count": null,
      "metadata": {},
      "outputs": [],
      "source": [
        "import re\n",
        "\n",
        "# Clean transcript text before embedding\n",
        "def clean_text(text):\n",
        "    text = re.sub(r'\\s+', ' ', text)\n",
        "    text = re.sub(r'\\[(.*?)\\]', '', text)\n",
        "    text = re.sub(r'(?i)(welcome( to)?|hello everyone|hi everyone|today we will learn|today we\\'re going to learn).*?[.!?]', '', text)\n",
        "    text = re.sub(r'(?i)(don\\'t forget to subscribe|please like and subscribe|this video is sponsored by|click the bell icon).*?[.!?]', '', text)\n",
        "    text = re.sub(r'\\b(uh|um|erm|you know|like)\\b', '', text, flags=re.IGNORECASE)\n",
        "    text = text.encode('utf-8', errors='ignore').decode('utf-8')\n",
        "    return text.strip()\n"
      ]
    },
    {
      "cell_type": "markdown",
      "metadata": {},
      "source": [
        "## 5. Download Playlist Audio "
      ]
    },
    {
      "cell_type": "code",
      "execution_count": 4,
      "metadata": {
        "colab": {
          "base_uri": "https://localhost:8080/"
        },
        "id": "gepOtY6vBNWZ",
        "outputId": "58674999-ea6e-4936-dedb-e28480f69d9b"
      },
      "outputs": [
        {
          "name": "stdout",
          "output_type": "stream",
          "text": [
            "Enter YouTube playlist URL: https://youtube.com/playlist?list=PLhQjrBD2T383Cqo5I1oRrbC1EKRAKGKUE&feature=shared\n",
            "[youtube:tab] Extracting URL: https://youtube.com/playlist?list=PLhQjrBD2T383Cqo5I1oRrbC1EKRAKGKUE&feature=shared\n",
            "[youtube:tab] PLhQjrBD2T383Cqo5I1oRrbC1EKRAKGKUE: Downloading webpage\n",
            "[youtube:tab] PLhQjrBD2T383Cqo5I1oRrbC1EKRAKGKUE: Redownloading playlist API JSON with unavailable videos\n",
            "[download] Downloading playlist: CS50's Introduction to Cybersecurity\n",
            "[youtube:tab] PLhQjrBD2T383Cqo5I1oRrbC1EKRAKGKUE page 1: Downloading API JSON\n",
            "[youtube:tab] Playlist CS50's Introduction to Cybersecurity: Downloading 6 items of 6\n",
            "[download] Downloading item 1 of 6\n",
            "[youtube] Extracting URL: https://www.youtube.com/watch?v=kmJlnUfMd7I\n",
            "[youtube] kmJlnUfMd7I: Downloading webpage\n",
            "[youtube] kmJlnUfMd7I: Downloading tv client config\n",
            "[youtube] kmJlnUfMd7I: Downloading player fded239a-main\n",
            "[youtube] kmJlnUfMd7I: Downloading tv player API JSON\n",
            "[youtube] kmJlnUfMd7I: Downloading ios player API JSON\n",
            "[youtube] kmJlnUfMd7I: Downloading m3u8 information\n",
            "[info] kmJlnUfMd7I: Downloading 1 format(s): 251\n",
            "[download] Destination: audios/CS50 Cybersecurity - Introduction.webm\n",
            "[download] 100% of    1.93MiB in 00:00:00 at 37.39MiB/s  \n",
            "[ExtractAudio] Destination: audios/CS50 Cybersecurity - Introduction.mp3\n",
            "Deleting original file audios/CS50 Cybersecurity - Introduction.webm (pass -k to keep)\n",
            "[download] Downloading item 2 of 6\n",
            "[youtube] Extracting URL: https://www.youtube.com/watch?v=kUovJpWqEMk\n",
            "[youtube] kUovJpWqEMk: Downloading webpage\n",
            "[youtube] kUovJpWqEMk: Downloading tv client config\n",
            "[youtube] kUovJpWqEMk: Downloading tv player API JSON\n",
            "[youtube] kUovJpWqEMk: Downloading ios player API JSON\n",
            "[youtube] kUovJpWqEMk: Downloading m3u8 information\n",
            "[info] kUovJpWqEMk: Downloading 1 format(s): 251\n",
            "[download] Destination: audios/CS50 Cybersecurity - Lecture 0 - Securing Accounts.webm\n",
            "[download] 100% of   62.07MiB in 00:00:01 at 39.77MiB/s  \n",
            "[ExtractAudio] Destination: audios/CS50 Cybersecurity - Lecture 0 - Securing Accounts.mp3\n",
            "Deleting original file audios/CS50 Cybersecurity - Lecture 0 - Securing Accounts.webm (pass -k to keep)\n",
            "[download] Downloading item 3 of 6\n",
            "[youtube] Extracting URL: https://www.youtube.com/watch?v=X3DVaMnl5n8\n",
            "[youtube] X3DVaMnl5n8: Downloading webpage\n",
            "[youtube] X3DVaMnl5n8: Downloading tv client config\n",
            "[youtube] X3DVaMnl5n8: Downloading tv player API JSON\n",
            "[youtube] X3DVaMnl5n8: Downloading ios player API JSON\n",
            "[youtube] X3DVaMnl5n8: Downloading m3u8 information\n",
            "[info] X3DVaMnl5n8: Downloading 1 format(s): 251\n",
            "[download] audios/CS50 Cybersecurity - Lecture 1 - Securing Data.webm has already been downloaded\n",
            "[download] 100% of   96.63MiB\n",
            "[ExtractAudio] Destination: audios/CS50 Cybersecurity - Lecture 1 - Securing Data.mp3\n",
            "Deleting original file audios/CS50 Cybersecurity - Lecture 1 - Securing Data.webm (pass -k to keep)\n",
            "[download] Downloading item 4 of 6\n",
            "[youtube] Extracting URL: https://www.youtube.com/watch?v=9phdZjF8qOk\n",
            "[youtube] 9phdZjF8qOk: Downloading webpage\n",
            "[youtube] 9phdZjF8qOk: Downloading tv client config\n",
            "[youtube] 9phdZjF8qOk: Downloading tv player API JSON\n",
            "[youtube] 9phdZjF8qOk: Downloading ios player API JSON\n",
            "[youtube] 9phdZjF8qOk: Downloading m3u8 information\n",
            "[info] 9phdZjF8qOk: Downloading 1 format(s): 251\n",
            "[download] Destination: audios/CS50 Cybersecurity - Lecture 2 - Securing Systems.webm\n",
            "[download] 100% of   67.59MiB in 00:00:03 at 19.94MiB/s  \n",
            "[ExtractAudio] Destination: audios/CS50 Cybersecurity - Lecture 2 - Securing Systems.mp3\n",
            "Deleting original file audios/CS50 Cybersecurity - Lecture 2 - Securing Systems.webm (pass -k to keep)\n",
            "[download] Downloading item 5 of 6\n",
            "[youtube] Extracting URL: https://www.youtube.com/watch?v=5rsKrTh3fAo\n",
            "[youtube] 5rsKrTh3fAo: Downloading webpage\n",
            "[youtube] 5rsKrTh3fAo: Downloading tv client config\n",
            "[youtube] 5rsKrTh3fAo: Downloading tv player API JSON\n",
            "[youtube] 5rsKrTh3fAo: Downloading ios player API JSON\n",
            "[youtube] 5rsKrTh3fAo: Downloading m3u8 information\n",
            "[info] 5rsKrTh3fAo: Downloading 1 format(s): 251\n",
            "[download] Destination: audios/CS50 Cybersecurity - Lecture 3 - Securing Software.webm\n",
            "[download] 100% of  100.36MiB in 00:00:02 at 40.56MiB/s  \n",
            "[ExtractAudio] Destination: audios/CS50 Cybersecurity - Lecture 3 - Securing Software.mp3\n",
            "Deleting original file audios/CS50 Cybersecurity - Lecture 3 - Securing Software.webm (pass -k to keep)\n",
            "[download] Downloading item 6 of 6\n",
            "[youtube] Extracting URL: https://www.youtube.com/watch?v=6IeqJtudKnk\n",
            "[youtube] 6IeqJtudKnk: Downloading webpage\n",
            "[youtube] 6IeqJtudKnk: Downloading tv client config\n",
            "[youtube] 6IeqJtudKnk: Downloading tv player API JSON\n",
            "[youtube] 6IeqJtudKnk: Downloading ios player API JSON\n",
            "[youtube] 6IeqJtudKnk: Downloading m3u8 information\n",
            "[info] 6IeqJtudKnk: Downloading 1 format(s): 251\n",
            "[download] Destination: audios/CS50 Cybersecurity - Lecture 4 - Preserving Privacy.webm\n",
            "[download] 100% of   66.18MiB in 00:00:01 at 43.14MiB/s  \n",
            "[ExtractAudio] Destination: audios/CS50 Cybersecurity - Lecture 4 - Preserving Privacy.mp3\n",
            "Deleting original file audios/CS50 Cybersecurity - Lecture 4 - Preserving Privacy.webm (pass -k to keep)\n",
            "[download] Finished downloading playlist: CS50's Introduction to Cybersecurity\n"
          ]
        }
      ],
      "source": [
        "def download_playlist(playlist_url):\n",
        "    ydl_opts = {\n",
        "        'format': 'bestaudio/best',\n",
        "        'outtmpl': 'audios/%(title)s.%(ext)s',\n",
        "        'postprocessors': [{\n",
        "            'key': 'FFmpegExtractAudio',\n",
        "            'preferredcodec': 'mp3',\n",
        "            'preferredquality': '192',\n",
        "        }],\n",
        "    }\n",
        "    with yt_dlp.YoutubeDL(ydl_opts) as ydl:\n",
        "        ydl.download([playlist_url])\n",
        "\n",
        "# Input your playlist URL\n",
        "playlist_url = input(\"Enter YouTube playlist URL: \")\n",
        "download_playlist(playlist_url)"
      ]
    },
    {
      "cell_type": "markdown",
      "metadata": {},
      "source": [
        "## 6. Transcribe Audio Files with Whisper and Apply Cleaning\n"
      ]
    },
    {
      "cell_type": "code",
      "execution_count": null,
      "metadata": {
        "colab": {
          "base_uri": "https://localhost:8080/"
        },
        "id": "zi7ojq_QBPHQ",
        "outputId": "a854a770-2eff-4a79-fcac-f4e2ee0e6b94"
      },
      "outputs": [
        {
          "name": "stderr",
          "output_type": "stream",
          "text": [
            "100%|███████████████████████████████████████| 139M/139M [00:06<00:00, 22.9MiB/s]\n"
          ]
        }
      ],
      "source": [
        "def transcribe_audios():\n",
        "    model = whisper.load_model(\"base\")\n",
        "    for filename in os.listdir(\"audios\"):\n",
        "        if filename.endswith(\".mp3\"):\n",
        "            audio_path = os.path.join(\"audios\", filename)\n",
        "            result = model.transcribe(audio_path)\n",
        "            \n",
        "            # Apply cleaning before saving\n",
        "            cleaned_text = clean_text(result[\"text\"])\n",
        "            \n",
        "            transcript_path = os.path.join(\"transcripts\", f\"{os.path.splitext(filename)[0]}.txt\")\n",
        "            with open(transcript_path, \"w\", encoding=\"utf-8\") as f:\n",
        "                f.write(cleaned_text)\n",
        "\n",
        "# Transcribe all audio files\n",
        "transcribe_audios()\n"
      ]
    },
    {
      "cell_type": "markdown",
      "metadata": {
        "id": "fFmWqKqYIaqb"
      },
      "source": [
        "## 8. Summarize Each Transcript and Export to CSV\n"
      ]
    },
    {
      "cell_type": "code",
      "execution_count": 6,
      "metadata": {
        "colab": {
          "base_uri": "https://localhost:8080/"
        },
        "id": "IsXLr4J2IMMC",
        "outputId": "d64011af-ed3a-4967-a5e6-80c5323f8846"
      },
      "outputs": [
        {
          "name": "stdout",
          "output_type": "stream",
          "text": [
            "Summary of each video in the playlist:\n",
            "\n",
            "Video: CS50 Cybersecurity - Lecture 2 - Securing Systems\n",
            "1. Encryption is a key solution to securing systems, including Wi-Fi networks, to protect data and prevent eavesdropping.\n",
            "2. HTTP, a common protocol for web communication, is vulnerable to eavesdropping and man-in-the-middle attacks due to lack of encryption.\n",
            "3. Packet sniffing is a threat that allows attackers to intercept and view unencrypted data packets, highlighting the importance of encryption to protect data during transmission.\n",
            "\n",
            "Video: CS50 Cybersecurity - Lecture 0 - Securing Accounts\n",
            "1. The lecture focuses on the importance of securing accounts in the digital world, emphasizing the concepts of authentication and authorization to ensure that only the right individuals have access to specific systems or information.\n",
            "2. Passwords play a crucial role in authentication, and it is essential to have strong, unique passwords that are not easily guessable to protect against threats like dictionary attacks and brute force attacks.\n",
            "3. The lecture demonstrates how a simple four-digit password can have 10,000 possible combinations, highlighting the vulnerability of such passwords and the ease with which they can be cracked using basic programming techniques, underscoring the importance of using more secure and complex passwords.\n",
            "\n",
            "Video: CS50 Cybersecurity - Lecture 1 - Securing Data\n",
            "1. The importance of securing data, particularly passwords, on servers or apps to prevent unauthorized access and credential stuffing attacks.\n",
            "2. The concept of hashing as a technique to convert passwords into hash values for storage in databases, making it harder for adversaries to access plaintext passwords.\n",
            "3. The implementation of hashing in password databases to store hash values instead of plaintext passwords, creating a layer of security while still allowing for authentication by comparing hash values during login processes.\n",
            "\n",
            "Video: CS50 Cybersecurity - Lecture 4 - Preserving Privacy\n",
            "1. The lecture focuses on preserving privacy in cybersecurity, considering the information shared between points A and B and the technologies underlying software and applications.\n",
            "2. The web browsing history is discussed as a feature that can be useful for quick access to information but also a concern for privacy as it can be accessed by others with physical access to the device.\n",
            "3. Servers log detailed information about users, including IP addresses, time of access, requested files, referrer URLs, and user agents, which can be used for diagnostic, auditing, and advertising purposes, highlighting the importance of exerting control over shared information through HTTP headers.\n",
            "\n",
            "Video: CS50 Cybersecurity - Lecture 3 - Securing Software\n",
            "1. The lecture focuses on securing software, specifically in the context of HTML and web pages.\n",
            "2. The potential threat of phishing attacks is discussed, where adversaries can manipulate HTML code to mislead users into clicking on links that lead to fake websites.\n",
            "3. By using HTML attributes and altering the visible text of links, adversaries can create convincing fake websites that trick users into entering sensitive information, such as usernames and passwords.\n",
            "\n",
            "Video: CS50 Cybersecurity - Introduction\n",
            "1. The course will teach how to secure accounts, data, systems, and software against current threats and how to anticipate future threats, emphasizing the importance of recognizing cybersecurity as a trade-off with usability.\n",
            "2. The focus will be on prevention and detection of cyber threats, with an emphasis on using tools like artificial intelligence for monitoring and auditing to detect potential adversaries' behavior.\n",
            "3. The course will cover high-level and low-level examples of threats, providing a foundation in computer principles to understand and deduce how new threats may work, even for non-programmers or non-computer experts.\n",
            "\n",
            "Summaries saved to outputs/video_summaries.csv\n"
          ]
        }
      ],
      "source": [
        "from langchain_openai import ChatOpenAI\n",
        "from langchain.prompts import PromptTemplate\n",
        "import os\n",
        "import csv\n",
        "\n",
        "def summarize_transcripts():\n",
        "    # Initialize LLM\n",
        "    llm = ChatOpenAI(openai_api_key=OPENAI_API_KEY, model_name=\"gpt-3.5-turbo\", temperature=0.2)\n",
        "\n",
        "    # Define prompt for summarizing each video into main points\n",
        "    prompt_template = PromptTemplate(\n",
        "        input_variables=[\"text\", \"title\"],\n",
        "        template=\"Summarize the following transcript from a video titled '{title}' into 2-3 main points. Format the response as a numbered list (e.g., 1. Point, 2. Point, 3. Point). Focus on the key topics or themes:\\n\\n{text}\"\n",
        "    )\n",
        "\n",
        "    # Prepare CSV data\n",
        "    csv_data = []\n",
        "\n",
        "    print(\"Summary of each video in the playlist:\")\n",
        "    # Process each transcript\n",
        "    for filename in os.listdir(\"transcripts\"):\n",
        "        if filename.endswith(\".txt\"):\n",
        "            with open(os.path.join(\"transcripts\", filename), \"r\", encoding=\"utf-8\") as f:\n",
        "                content = f.read()\n",
        "\n",
        "            # Use filename (without .txt) as video title\n",
        "            video_title = os.path.splitext(filename)[0]\n",
        "\n",
        "            # Generate summary for this video\n",
        "            summary = llm.invoke(\n",
        "                prompt_template.format(\n",
        "                    text=content[:10000],  # Limit to 10k chars to avoid token limits\n",
        "                    title=video_title\n",
        "                )\n",
        "            )\n",
        "\n",
        "            # Print summary for this video\n",
        "            print(f\"\\nVideo: {video_title}\")\n",
        "            print(summary.content)\n",
        "\n",
        "            # Add to CSV data\n",
        "            csv_data.append([video_title, summary.content])\n",
        "\n",
        "    # Save summaries to CSV\n",
        "    csv_file_path = os.path.join(\"outputs\", \"video_summaries.csv\")\n",
        "    with open(csv_file_path, \"w\", newline=\"\", encoding=\"utf-8\") as csvfile:\n",
        "        writer = csv.writer(csvfile)\n",
        "        writer.writerow([\"Video Title\", \"Summary\"])  # Write header\n",
        "        writer.writerows(csv_data)  # Write data\n",
        "    print(f\"\\nSummaries saved to {csv_file_path}\")\n",
        "\n",
        "# Generate summaries and save to CSV\n",
        "summarize_transcripts()"
      ]
    },
    {
      "cell_type": "markdown",
      "metadata": {
        "id": "lgkPcXRAJE1e"
      },
      "source": [
        "## 9. Create and Persist Chroma Vector Store\n"
      ]
    },
    {
      "cell_type": "code",
      "execution_count": 7,
      "metadata": {
        "id": "HxuU7izuBX1i"
      },
      "outputs": [],
      "source": [
        "def create_vector_db():\n",
        "    # Load transcripts into documents\n",
        "    documents = []\n",
        "    for filename in os.listdir(\"transcripts\"):\n",
        "        if filename.endswith(\".txt\"):\n",
        "            with open(os.path.join(\"transcripts\", filename), \"r\", encoding=\"utf-8\") as f:\n",
        "                content = f.read()\n",
        "                documents.append(Document(page_content=content, metadata={\"source\": filename}))\n",
        "\n",
        "    # Split documents into chunks\n",
        "    text_splitter = RecursiveCharacterTextSplitter(chunk_size=1000, chunk_overlap=200)\n",
        "    splits = text_splitter.split_documents(documents)\n",
        "\n",
        "    # Create vector database\n",
        "    embeddings = OpenAIEmbeddings(openai_api_key=OPENAI_API_KEY)\n",
        "    vectorstore = Chroma.from_documents(documents=splits, embedding=embeddings, persist_directory=\"./chroma_db\")\n",
        "    return vectorstore\n",
        "\n",
        "# Create and persist vector database\n",
        "vectorstore = create_vector_db()"
      ]
    },
    {
      "cell_type": "markdown",
      "metadata": {},
      "source": [
        "## 10. Setup Chatbot with RetrievalQA\n"
      ]
    },
    {
      "cell_type": "code",
      "execution_count": 8,
      "metadata": {
        "id": "oi6ggz60HCV9"
      },
      "outputs": [],
      "source": [
        "def setup_chatbot(vectorstore):\n",
        "    llm = ChatOpenAI(openai_api_key=OPENAI_API_KEY, model_name=\"gpt-3.5-turbo\", temperature=0)\n",
        "    qa_chain = RetrievalQA.from_chain_type(\n",
        "        llm=llm,\n",
        "        chain_type=\"stuff\",\n",
        "        retriever=vectorstore.as_retriever(search_kwargs={\"k\": 3}),\n",
        "        return_source_documents=True\n",
        "    )\n",
        "    return qa_chain\n",
        "\n",
        "# Initialize chatbot\n",
        "qa_chain = setup_chatbot(vectorstore)"
      ]
    },
    {
      "cell_type": "markdown",
      "metadata": {},
      "source": [
        "## 11. Archive Transcripts Folder\n"
      ]
    },
    {
      "cell_type": "code",
      "execution_count": 11,
      "metadata": {
        "colab": {
          "base_uri": "https://localhost:8080/",
          "height": 35
        },
        "id": "oeUdXy-0f2L7",
        "outputId": "c6d4add3-e0cc-44c9-fb42-1a69f1eabc33"
      },
      "outputs": [
        {
          "data": {
            "application/vnd.google.colaboratory.intrinsic+json": {
              "type": "string"
            },
            "text/plain": [
              "'/content/transcripts.zip'"
            ]
          },
          "execution_count": 11,
          "metadata": {},
          "output_type": "execute_result"
        }
      ],
      "source": [
        "import shutil # Import the shutil module\n",
        "\n",
        "shutil.make_archive('transcripts', 'zip', 'transcripts')"
      ]
    },
    {
      "cell_type": "markdown",
      "metadata": {
        "id": "OS1np7i0JI7A"
      },
      "source": [
        "# ✅ chat with AI and let him answer based on the provided Data"
      ]
    },
    {
      "cell_type": "code",
      "execution_count": 9,
      "metadata": {
        "colab": {
          "base_uri": "https://localhost:8080/"
        },
        "id": "hafMwGi4HFhg",
        "outputId": "da488ffe-bdbd-4bed-a73d-4c1c1dfe37c5"
      },
      "outputs": [
        {
          "name": "stdout",
          "output_type": "stream",
          "text": [
            "Chatbot ready! Ask questions about the playlist videos (type 'exit' to quit).\n",
            "You: how to to secure systems?\n"
          ]
        },
        {
          "name": "stderr",
          "output_type": "stream",
          "text": [
            "<ipython-input-9-4207e3c9a15a>:7: LangChainDeprecationWarning: The method `Chain.__call__` was deprecated in langchain 0.1.0 and will be removed in 1.0. Use :meth:`~invoke` instead.\n",
            "  result = qa_chain({\"query\": query})\n"
          ]
        },
        {
          "name": "stdout",
          "output_type": "stream",
          "text": [
            "Bot: To secure systems, encryption is a key solution to many problems. When it comes to networked systems like Wi-Fi, choosing secured networks over unsecured ones is important. Additionally, implementing multiple layers of security can help raise the bar for potential adversaries, making it more difficult for them to access your systems. Regularly updating software and using strong, unique passwords for accounts are also essential steps in securing systems.\n",
            "Source: CS50 Cybersecurity - Lecture 2 - Securing Systems.txt\n",
            "\n",
            "You: how to secure accounts?\n",
            "Bot: To secure your accounts effectively, you can follow these recommendations:\n",
            "\n",
            "1. Use a password manager to store and generate strong, unique passwords for each account.\n",
            "2. Enable two-factor authentication using a native application on your phone or a physical key fob instead of SMS.\n",
            "3. Start by securing your most important accounts first and gradually work on others.\n",
            "4. Use passwords that are at least eight characters long and consider upgrading from four-digit passcodes on your phone for added security.\n",
            "\n",
            "By implementing these practices, you can enhance the security of your accounts and protect your personal information.\n",
            "Source: CS50 Cybersecurity - Lecture 0 - Securing Accounts.txt\n",
            "\n",
            "You: exit\n"
          ]
        }
      ],
      "source": [
        "def chat_with_bot():\n",
        "    print(\"Chatbot ready! Ask questions about the playlist videos (type 'exit' to quit).\")\n",
        "    while True:\n",
        "        query = input(\"You: \")\n",
        "        if query.lower() == \"exit\":\n",
        "            break\n",
        "        result = qa_chain({\"query\": query})\n",
        "        print(f\"Bot: {result['result']}\")\n",
        "        print(f\"Source: {result['source_documents'][0].metadata['source']}\\n\")\n",
        "\n",
        "# Start chatting\n",
        "chat_with_bot()"
      ]
    }
  ],
  "metadata": {
    "accelerator": "GPU",
    "colab": {
      "gpuType": "T4",
      "machine_shape": "hm",
      "provenance": []
    },
    "kernelspec": {
      "display_name": "Python 3",
      "name": "python3"
    },
    "language_info": {
      "name": "python"
    }
  },
  "nbformat": 4,
  "nbformat_minor": 0
}
